{
  "nbformat": 4,
  "nbformat_minor": 0,
  "metadata": {
    "colab": {
      "name": "RNN.ipynb",
      "provenance": [],
      "include_colab_link": true
    },
    "kernelspec": {
      "name": "python3",
      "display_name": "Python 3"
    },
    "language_info": {
      "name": "python"
    }
  },
  "cells": [
    {
      "cell_type": "markdown",
      "metadata": {
        "id": "view-in-github",
        "colab_type": "text"
      },
      "source": [
        "<a href=\"https://colab.research.google.com/github/ruoroj/ProjectWeekPractice/blob/main/RNN.ipynb\" target=\"_parent\"><img src=\"https://colab.research.google.com/assets/colab-badge.svg\" alt=\"Open In Colab\"/></a>"
      ]
    },
    {
      "cell_type": "code",
      "metadata": {
        "colab": {
          "base_uri": "https://localhost:8080/"
        },
        "id": "75rYRQcpef41",
        "outputId": "a9e6d008-7e5d-4f07-f487-0db1d6dc08f8"
      },
      "source": [
        "import pandas as pd\n",
        "import numpy as np\n",
        "import pandas as pd\n",
        "import numpy as np\n",
        "#for text pre-processing\n",
        "import re, string\n",
        "import nltk\n",
        "from nltk.tokenize import word_tokenize\n",
        "from nltk.corpus import stopwords\n",
        "from nltk.tokenize import word_tokenize\n",
        "from nltk.stem import SnowballStemmer\n",
        "from nltk.corpus import wordnet\n",
        "from nltk.stem import WordNetLemmatizer\n",
        "nltk.download('punkt')\n",
        "nltk.download('averaged_perceptron_tagger')\n",
        "nltk.download('wordnet')\n",
        "#for model-building\n",
        "from sklearn.model_selection import train_test_split\n",
        "from sklearn.linear_model import LogisticRegression\n",
        "from sklearn.naive_bayes import MultinomialNB\n",
        "from sklearn.metrics import classification_report, f1_score, accuracy_score, confusion_matrix\n",
        "from sklearn.metrics import roc_curve, auc, roc_auc_score\n",
        "# bag of words\n",
        "from sklearn.feature_extraction.text import TfidfVectorizer\n",
        "from sklearn.feature_extraction.text import CountVectorizer\n",
        "#for word embedding\n",
        "import gensim\n",
        "from gensim.models import Word2Vec\n",
        "from nltk.corpus import stopwords\n",
        "nltk.download('stopwords')\n",
        "from nltk.util import ngrams\n",
        "from spacy.lang.en import English\n",
        "nlp = English()\n",
        "import spacy\n",
        "from nltk.stem import WordNetLemmatizer\n",
        "  \n",
        "lemmatizer = WordNetLemmatizer()"
      ],
      "execution_count": 1,
      "outputs": [
        {
          "output_type": "stream",
          "text": [
            "[nltk_data] Downloading package punkt to /root/nltk_data...\n",
            "[nltk_data]   Unzipping tokenizers/punkt.zip.\n",
            "[nltk_data] Downloading package averaged_perceptron_tagger to\n",
            "[nltk_data]     /root/nltk_data...\n",
            "[nltk_data]   Unzipping taggers/averaged_perceptron_tagger.zip.\n",
            "[nltk_data] Downloading package wordnet to /root/nltk_data...\n",
            "[nltk_data]   Unzipping corpora/wordnet.zip.\n",
            "[nltk_data] Downloading package stopwords to /root/nltk_data...\n",
            "[nltk_data]   Unzipping corpora/stopwords.zip.\n"
          ],
          "name": "stdout"
        }
      ]
    },
    {
      "cell_type": "code",
      "metadata": {
        "colab": {
          "base_uri": "https://localhost:8080/",
          "height": 81
        },
        "id": "JzLBnsW7exsg",
        "outputId": "017b4ca0-450c-4921-d1ea-67a649027b9a"
      },
      "source": [
        "df = pd.read_csv('/content/MentalHealth_orig (1).csv')\n",
        "df.head(1)"
      ],
      "execution_count": 89,
      "outputs": [
        {
          "output_type": "execute_result",
          "data": {
            "text/html": [
              "<div>\n",
              "<style scoped>\n",
              "    .dataframe tbody tr th:only-of-type {\n",
              "        vertical-align: middle;\n",
              "    }\n",
              "\n",
              "    .dataframe tbody tr th {\n",
              "        vertical-align: top;\n",
              "    }\n",
              "\n",
              "    .dataframe thead th {\n",
              "        text-align: right;\n",
              "    }\n",
              "</style>\n",
              "<table border=\"1\" class=\"dataframe\">\n",
              "  <thead>\n",
              "    <tr style=\"text-align: right;\">\n",
              "      <th></th>\n",
              "      <th>Unnamed: 0</th>\n",
              "      <th>tweet</th>\n",
              "      <th>location</th>\n",
              "      <th>disorder</th>\n",
              "      <th>hour</th>\n",
              "      <th>clean_tweet</th>\n",
              "    </tr>\n",
              "  </thead>\n",
              "  <tbody>\n",
              "    <tr>\n",
              "      <th>0</th>\n",
              "      <td>0</td>\n",
              "      <td>shock as a young man climbs on top of a hospit...</td>\n",
              "      <td>nairobi, kenya</td>\n",
              "      <td>4</td>\n",
              "      <td>10</td>\n",
              "      <td>['shock', 'young', 'man', 'climbs', 'top', 'ho...</td>\n",
              "    </tr>\n",
              "  </tbody>\n",
              "</table>\n",
              "</div>"
            ],
            "text/plain": [
              "   Unnamed: 0  ...                                        clean_tweet\n",
              "0           0  ...  ['shock', 'young', 'man', 'climbs', 'top', 'ho...\n",
              "\n",
              "[1 rows x 6 columns]"
            ]
          },
          "metadata": {
            "tags": []
          },
          "execution_count": 89
        }
      ]
    },
    {
      "cell_type": "code",
      "metadata": {
        "id": "D_kKSDUzfFaK"
      },
      "source": [
        "df.drop(['Unnamed: 0','tweet','location', 'hour'],axis=1,inplace=True)"
      ],
      "execution_count": 90,
      "outputs": []
    },
    {
      "cell_type": "code",
      "metadata": {
        "id": "PZ6sRmTbfb4v"
      },
      "source": [
        "#removing url links\n",
        "def remove_URL(text):\n",
        "    url = re.compile(r'https?://\\S+|www\\.\\S+')\n",
        "    return url.sub(r'',text)\n",
        "\n",
        "df['clean_tweet']=df['clean_tweet'].apply(lambda x : remove_URL(x))"
      ],
      "execution_count": 91,
      "outputs": []
    },
    {
      "cell_type": "code",
      "metadata": {
        "colab": {
          "base_uri": "https://localhost:8080/",
          "height": 81
        },
        "id": "qXDUqLRsf6na",
        "outputId": "437c637b-2bc1-4dad-8225-e5a90de3113d"
      },
      "source": [
        "df.head(1)"
      ],
      "execution_count": 92,
      "outputs": [
        {
          "output_type": "execute_result",
          "data": {
            "text/html": [
              "<div>\n",
              "<style scoped>\n",
              "    .dataframe tbody tr th:only-of-type {\n",
              "        vertical-align: middle;\n",
              "    }\n",
              "\n",
              "    .dataframe tbody tr th {\n",
              "        vertical-align: top;\n",
              "    }\n",
              "\n",
              "    .dataframe thead th {\n",
              "        text-align: right;\n",
              "    }\n",
              "</style>\n",
              "<table border=\"1\" class=\"dataframe\">\n",
              "  <thead>\n",
              "    <tr style=\"text-align: right;\">\n",
              "      <th></th>\n",
              "      <th>disorder</th>\n",
              "      <th>clean_tweet</th>\n",
              "    </tr>\n",
              "  </thead>\n",
              "  <tbody>\n",
              "    <tr>\n",
              "      <th>0</th>\n",
              "      <td>4</td>\n",
              "      <td>['shock', 'young', 'man', 'climbs', 'top', 'ho...</td>\n",
              "    </tr>\n",
              "  </tbody>\n",
              "</table>\n",
              "</div>"
            ],
            "text/plain": [
              "   disorder                                        clean_tweet\n",
              "0         4  ['shock', 'young', 'man', 'climbs', 'top', 'ho..."
            ]
          },
          "metadata": {
            "tags": []
          },
          "execution_count": 92
        }
      ]
    },
    {
      "cell_type": "code",
      "metadata": {
        "id": "lagDcD80f-Ee"
      },
      "source": [
        "df.to_csv('clean.csv')"
      ],
      "execution_count": 93,
      "outputs": []
    },
    {
      "cell_type": "code",
      "metadata": {
        "id": "AXoZZDoggZrp"
      },
      "source": [
        "!pip install keras\n",
        "!pip install tensorflow"
      ],
      "execution_count": 94,
      "outputs": []
    },
    {
      "cell_type": "code",
      "metadata": {
        "id": "SRwxkxD7glvo"
      },
      "source": [
        "import tensorflow as tf\n",
        "from tensorflow import keras\n",
        "from tensorflow.keras import layers\n",
        "from tensorflow.keras import Sequential\n",
        "from tensorflow.keras.preprocessing import sequence\n",
        "from __future__ import absolute_import,division,print_function,unicode_literals\n",
        "import nltk\n",
        "from nltk.corpus import stopwords\n",
        "\n",
        "from numpy import array\n",
        "\n",
        "from tensorflow.keras.preprocessing.sequence import pad_sequences\n",
        "from tensorflow.keras.models import Sequential\n",
        "#from tensorflow.keras.layers.core import Activation, Dropout, Dense\n",
        "from tensorflow.keras.layers import Flatten\n",
        "from tensorflow.keras.layers import GlobalMaxPooling1D\n",
        "\n",
        "from sklearn.model_selection import train_test_split\n",
        "from tensorflow.keras.preprocessing.text import Tokenizer"
      ],
      "execution_count": 95,
      "outputs": []
    },
    {
      "cell_type": "code",
      "metadata": {
        "id": "NyItkvobgtmr"
      },
      "source": [
        "from tensorflow.keras.models import Sequential\n",
        "from tensorflow.keras.layers import Dense\n",
        "from tensorflow.keras.layers import LSTM\n",
        "from tensorflow.keras.layers import Embedding\n",
        "from tensorflow.keras.preprocessing import sequence\n",
        "import tensorflow_hub as hub"
      ],
      "execution_count": 96,
      "outputs": []
    },
    {
      "cell_type": "code",
      "metadata": {
        "colab": {
          "base_uri": "https://localhost:8080/"
        },
        "id": "t6YFMxzogv9P",
        "outputId": "6b492758-7a23-4767-c618-d6327bfb0244"
      },
      "source": [
        "#Split between the test and train data\n",
        "X_train,X_test = train_test_split(df, test_size = 0.2, random_state = 1000)\n",
        "X_train.shape,X_test.shape"
      ],
      "execution_count": 97,
      "outputs": [
        {
          "output_type": "execute_result",
          "data": {
            "text/plain": [
              "((604, 2), (152, 2))"
            ]
          },
          "metadata": {
            "tags": []
          },
          "execution_count": 97
        }
      ]
    },
    {
      "cell_type": "code",
      "metadata": {
        "colab": {
          "base_uri": "https://localhost:8080/"
        },
        "id": "AC4K6bY_g1l2",
        "outputId": "f3e5d80f-c76e-40d4-a434-f628e2f50527"
      },
      "source": [
        "#Dealing with class imbalance using weights\n",
        "from sklearn.utils import class_weight\n",
        "class_weights = list(class_weight.compute_class_weight('balanced', np.unique(df['disorder']),df['disorder']))\n",
        "class_weights"
      ],
      "execution_count": 98,
      "outputs": [
        {
          "output_type": "execute_result",
          "data": {
            "text/plain": [
              "[0.33992805755395683,\n",
              " 6.75,\n",
              " 5.5588235294117645,\n",
              " 7.875,\n",
              " 0.26770538243626063,\n",
              " 10.5,\n",
              " 6.75,\n",
              " 1.6016949152542372]"
            ]
          },
          "metadata": {
            "tags": []
          },
          "execution_count": 98
        }
      ]
    },
    {
      "cell_type": "code",
      "metadata": {
        "colab": {
          "base_uri": "https://localhost:8080/",
          "height": 81
        },
        "id": "MpzPcZ6ulFUr",
        "outputId": "2cce6107-1343-40c3-ca1b-3e873f227abf"
      },
      "source": [
        "clean = pd.read_csv('/content/clean.csv')\n",
        "clean.head(1)"
      ],
      "execution_count": 99,
      "outputs": [
        {
          "output_type": "execute_result",
          "data": {
            "text/html": [
              "<div>\n",
              "<style scoped>\n",
              "    .dataframe tbody tr th:only-of-type {\n",
              "        vertical-align: middle;\n",
              "    }\n",
              "\n",
              "    .dataframe tbody tr th {\n",
              "        vertical-align: top;\n",
              "    }\n",
              "\n",
              "    .dataframe thead th {\n",
              "        text-align: right;\n",
              "    }\n",
              "</style>\n",
              "<table border=\"1\" class=\"dataframe\">\n",
              "  <thead>\n",
              "    <tr style=\"text-align: right;\">\n",
              "      <th></th>\n",
              "      <th>Unnamed: 0</th>\n",
              "      <th>disorder</th>\n",
              "      <th>clean_tweet</th>\n",
              "    </tr>\n",
              "  </thead>\n",
              "  <tbody>\n",
              "    <tr>\n",
              "      <th>0</th>\n",
              "      <td>0</td>\n",
              "      <td>4</td>\n",
              "      <td>['shock', 'young', 'man', 'climbs', 'top', 'ho...</td>\n",
              "    </tr>\n",
              "  </tbody>\n",
              "</table>\n",
              "</div>"
            ],
            "text/plain": [
              "   Unnamed: 0  disorder                                        clean_tweet\n",
              "0           0         4  ['shock', 'young', 'man', 'climbs', 'top', 'ho..."
            ]
          },
          "metadata": {
            "tags": []
          },
          "execution_count": 99
        }
      ]
    },
    {
      "cell_type": "code",
      "metadata": {
        "id": "tmFhf9hVlUYW"
      },
      "source": [
        "from sklearn.feature_extraction.text import CountVectorizer"
      ],
      "execution_count": 14,
      "outputs": []
    },
    {
      "cell_type": "code",
      "metadata": {
        "colab": {
          "base_uri": "https://localhost:8080/",
          "height": 147
        },
        "id": "gWqqXv9-lfQj",
        "outputId": "5be9b6bc-1589-466c-9403-eef0f7984f09"
      },
      "source": [
        "cv = CountVectorizer(stop_words='english')\n",
        "rt = cv.fit_transform(clean['clean_tweet'])\n",
        "clean.drop('clean_tweet',axis=1,inplace=True)\n",
        "rt = pd.DataFrame(rt.toarray())\n",
        "df = pd.concat([clean,rt],axis=1)\n",
        "df.head(1)"
      ],
      "execution_count": 100,
      "outputs": [
        {
          "output_type": "execute_result",
          "data": {
            "text/html": [
              "<div>\n",
              "<style scoped>\n",
              "    .dataframe tbody tr th:only-of-type {\n",
              "        vertical-align: middle;\n",
              "    }\n",
              "\n",
              "    .dataframe tbody tr th {\n",
              "        vertical-align: top;\n",
              "    }\n",
              "\n",
              "    .dataframe thead th {\n",
              "        text-align: right;\n",
              "    }\n",
              "</style>\n",
              "<table border=\"1\" class=\"dataframe\">\n",
              "  <thead>\n",
              "    <tr style=\"text-align: right;\">\n",
              "      <th></th>\n",
              "      <th>Unnamed: 0</th>\n",
              "      <th>disorder</th>\n",
              "      <th>0</th>\n",
              "      <th>1</th>\n",
              "      <th>2</th>\n",
              "      <th>3</th>\n",
              "      <th>4</th>\n",
              "      <th>5</th>\n",
              "      <th>6</th>\n",
              "      <th>7</th>\n",
              "      <th>8</th>\n",
              "      <th>9</th>\n",
              "      <th>10</th>\n",
              "      <th>11</th>\n",
              "      <th>12</th>\n",
              "      <th>13</th>\n",
              "      <th>14</th>\n",
              "      <th>15</th>\n",
              "      <th>16</th>\n",
              "      <th>17</th>\n",
              "      <th>18</th>\n",
              "      <th>19</th>\n",
              "      <th>20</th>\n",
              "      <th>21</th>\n",
              "      <th>22</th>\n",
              "      <th>23</th>\n",
              "      <th>24</th>\n",
              "      <th>25</th>\n",
              "      <th>26</th>\n",
              "      <th>27</th>\n",
              "      <th>28</th>\n",
              "      <th>29</th>\n",
              "      <th>30</th>\n",
              "      <th>31</th>\n",
              "      <th>32</th>\n",
              "      <th>33</th>\n",
              "      <th>34</th>\n",
              "      <th>35</th>\n",
              "      <th>36</th>\n",
              "      <th>37</th>\n",
              "      <th>...</th>\n",
              "      <th>3261</th>\n",
              "      <th>3262</th>\n",
              "      <th>3263</th>\n",
              "      <th>3264</th>\n",
              "      <th>3265</th>\n",
              "      <th>3266</th>\n",
              "      <th>3267</th>\n",
              "      <th>3268</th>\n",
              "      <th>3269</th>\n",
              "      <th>3270</th>\n",
              "      <th>3271</th>\n",
              "      <th>3272</th>\n",
              "      <th>3273</th>\n",
              "      <th>3274</th>\n",
              "      <th>3275</th>\n",
              "      <th>3276</th>\n",
              "      <th>3277</th>\n",
              "      <th>3278</th>\n",
              "      <th>3279</th>\n",
              "      <th>3280</th>\n",
              "      <th>3281</th>\n",
              "      <th>3282</th>\n",
              "      <th>3283</th>\n",
              "      <th>3284</th>\n",
              "      <th>3285</th>\n",
              "      <th>3286</th>\n",
              "      <th>3287</th>\n",
              "      <th>3288</th>\n",
              "      <th>3289</th>\n",
              "      <th>3290</th>\n",
              "      <th>3291</th>\n",
              "      <th>3292</th>\n",
              "      <th>3293</th>\n",
              "      <th>3294</th>\n",
              "      <th>3295</th>\n",
              "      <th>3296</th>\n",
              "      <th>3297</th>\n",
              "      <th>3298</th>\n",
              "      <th>3299</th>\n",
              "      <th>3300</th>\n",
              "    </tr>\n",
              "  </thead>\n",
              "  <tbody>\n",
              "    <tr>\n",
              "      <th>0</th>\n",
              "      <td>0</td>\n",
              "      <td>4</td>\n",
              "      <td>0</td>\n",
              "      <td>0</td>\n",
              "      <td>0</td>\n",
              "      <td>0</td>\n",
              "      <td>0</td>\n",
              "      <td>0</td>\n",
              "      <td>0</td>\n",
              "      <td>0</td>\n",
              "      <td>0</td>\n",
              "      <td>0</td>\n",
              "      <td>0</td>\n",
              "      <td>0</td>\n",
              "      <td>0</td>\n",
              "      <td>0</td>\n",
              "      <td>0</td>\n",
              "      <td>0</td>\n",
              "      <td>0</td>\n",
              "      <td>0</td>\n",
              "      <td>0</td>\n",
              "      <td>0</td>\n",
              "      <td>0</td>\n",
              "      <td>0</td>\n",
              "      <td>0</td>\n",
              "      <td>0</td>\n",
              "      <td>0</td>\n",
              "      <td>0</td>\n",
              "      <td>0</td>\n",
              "      <td>0</td>\n",
              "      <td>0</td>\n",
              "      <td>0</td>\n",
              "      <td>0</td>\n",
              "      <td>0</td>\n",
              "      <td>0</td>\n",
              "      <td>0</td>\n",
              "      <td>0</td>\n",
              "      <td>0</td>\n",
              "      <td>0</td>\n",
              "      <td>0</td>\n",
              "      <td>...</td>\n",
              "      <td>0</td>\n",
              "      <td>0</td>\n",
              "      <td>0</td>\n",
              "      <td>0</td>\n",
              "      <td>0</td>\n",
              "      <td>0</td>\n",
              "      <td>0</td>\n",
              "      <td>0</td>\n",
              "      <td>0</td>\n",
              "      <td>0</td>\n",
              "      <td>0</td>\n",
              "      <td>0</td>\n",
              "      <td>0</td>\n",
              "      <td>0</td>\n",
              "      <td>0</td>\n",
              "      <td>0</td>\n",
              "      <td>0</td>\n",
              "      <td>0</td>\n",
              "      <td>0</td>\n",
              "      <td>0</td>\n",
              "      <td>0</td>\n",
              "      <td>1</td>\n",
              "      <td>0</td>\n",
              "      <td>0</td>\n",
              "      <td>0</td>\n",
              "      <td>0</td>\n",
              "      <td>0</td>\n",
              "      <td>0</td>\n",
              "      <td>0</td>\n",
              "      <td>0</td>\n",
              "      <td>0</td>\n",
              "      <td>0</td>\n",
              "      <td>0</td>\n",
              "      <td>0</td>\n",
              "      <td>0</td>\n",
              "      <td>0</td>\n",
              "      <td>0</td>\n",
              "      <td>0</td>\n",
              "      <td>0</td>\n",
              "      <td>0</td>\n",
              "    </tr>\n",
              "  </tbody>\n",
              "</table>\n",
              "<p>1 rows × 3303 columns</p>\n",
              "</div>"
            ],
            "text/plain": [
              "   Unnamed: 0  disorder  0  1  2  3  ...  3295  3296  3297  3298  3299  3300\n",
              "0           0         4  0  0  0  0  ...     0     0     0     0     0     0\n",
              "\n",
              "[1 rows x 3303 columns]"
            ]
          },
          "metadata": {
            "tags": []
          },
          "execution_count": 100
        }
      ]
    },
    {
      "cell_type": "code",
      "metadata": {
        "colab": {
          "base_uri": "https://localhost:8080/"
        },
        "id": "1ahN1de_nntT",
        "outputId": "ad1c71f3-0d7d-4f50-a7cf-cdc71726850d"
      },
      "source": [
        "df.columns"
      ],
      "execution_count": 101,
      "outputs": [
        {
          "output_type": "execute_result",
          "data": {
            "text/plain": [
              "Index(['Unnamed: 0',   'disorder',            0,            1,            2,\n",
              "                  3,            4,            5,            6,            7,\n",
              "       ...\n",
              "               3291,         3292,         3293,         3294,         3295,\n",
              "               3296,         3297,         3298,         3299,         3300],\n",
              "      dtype='object', length=3303)"
            ]
          },
          "metadata": {
            "tags": []
          },
          "execution_count": 101
        }
      ]
    },
    {
      "cell_type": "code",
      "metadata": {
        "colab": {
          "base_uri": "https://localhost:8080/",
          "height": 130
        },
        "id": "azo-x5LRnTwK",
        "outputId": "92f79811-8bb4-4347-e06c-186f71577fb6"
      },
      "source": [
        "df.drop(\"Unnamed: 0\",axis=1,inplace=True)\n",
        "df.head(1)"
      ],
      "execution_count": 102,
      "outputs": [
        {
          "output_type": "execute_result",
          "data": {
            "text/html": [
              "<div>\n",
              "<style scoped>\n",
              "    .dataframe tbody tr th:only-of-type {\n",
              "        vertical-align: middle;\n",
              "    }\n",
              "\n",
              "    .dataframe tbody tr th {\n",
              "        vertical-align: top;\n",
              "    }\n",
              "\n",
              "    .dataframe thead th {\n",
              "        text-align: right;\n",
              "    }\n",
              "</style>\n",
              "<table border=\"1\" class=\"dataframe\">\n",
              "  <thead>\n",
              "    <tr style=\"text-align: right;\">\n",
              "      <th></th>\n",
              "      <th>disorder</th>\n",
              "      <th>0</th>\n",
              "      <th>1</th>\n",
              "      <th>2</th>\n",
              "      <th>3</th>\n",
              "      <th>4</th>\n",
              "      <th>5</th>\n",
              "      <th>6</th>\n",
              "      <th>7</th>\n",
              "      <th>8</th>\n",
              "      <th>9</th>\n",
              "      <th>10</th>\n",
              "      <th>11</th>\n",
              "      <th>12</th>\n",
              "      <th>13</th>\n",
              "      <th>14</th>\n",
              "      <th>15</th>\n",
              "      <th>16</th>\n",
              "      <th>17</th>\n",
              "      <th>18</th>\n",
              "      <th>19</th>\n",
              "      <th>20</th>\n",
              "      <th>21</th>\n",
              "      <th>22</th>\n",
              "      <th>23</th>\n",
              "      <th>24</th>\n",
              "      <th>25</th>\n",
              "      <th>26</th>\n",
              "      <th>27</th>\n",
              "      <th>28</th>\n",
              "      <th>29</th>\n",
              "      <th>30</th>\n",
              "      <th>31</th>\n",
              "      <th>32</th>\n",
              "      <th>33</th>\n",
              "      <th>34</th>\n",
              "      <th>35</th>\n",
              "      <th>36</th>\n",
              "      <th>37</th>\n",
              "      <th>38</th>\n",
              "      <th>...</th>\n",
              "      <th>3261</th>\n",
              "      <th>3262</th>\n",
              "      <th>3263</th>\n",
              "      <th>3264</th>\n",
              "      <th>3265</th>\n",
              "      <th>3266</th>\n",
              "      <th>3267</th>\n",
              "      <th>3268</th>\n",
              "      <th>3269</th>\n",
              "      <th>3270</th>\n",
              "      <th>3271</th>\n",
              "      <th>3272</th>\n",
              "      <th>3273</th>\n",
              "      <th>3274</th>\n",
              "      <th>3275</th>\n",
              "      <th>3276</th>\n",
              "      <th>3277</th>\n",
              "      <th>3278</th>\n",
              "      <th>3279</th>\n",
              "      <th>3280</th>\n",
              "      <th>3281</th>\n",
              "      <th>3282</th>\n",
              "      <th>3283</th>\n",
              "      <th>3284</th>\n",
              "      <th>3285</th>\n",
              "      <th>3286</th>\n",
              "      <th>3287</th>\n",
              "      <th>3288</th>\n",
              "      <th>3289</th>\n",
              "      <th>3290</th>\n",
              "      <th>3291</th>\n",
              "      <th>3292</th>\n",
              "      <th>3293</th>\n",
              "      <th>3294</th>\n",
              "      <th>3295</th>\n",
              "      <th>3296</th>\n",
              "      <th>3297</th>\n",
              "      <th>3298</th>\n",
              "      <th>3299</th>\n",
              "      <th>3300</th>\n",
              "    </tr>\n",
              "  </thead>\n",
              "  <tbody>\n",
              "    <tr>\n",
              "      <th>0</th>\n",
              "      <td>4</td>\n",
              "      <td>0</td>\n",
              "      <td>0</td>\n",
              "      <td>0</td>\n",
              "      <td>0</td>\n",
              "      <td>0</td>\n",
              "      <td>0</td>\n",
              "      <td>0</td>\n",
              "      <td>0</td>\n",
              "      <td>0</td>\n",
              "      <td>0</td>\n",
              "      <td>0</td>\n",
              "      <td>0</td>\n",
              "      <td>0</td>\n",
              "      <td>0</td>\n",
              "      <td>0</td>\n",
              "      <td>0</td>\n",
              "      <td>0</td>\n",
              "      <td>0</td>\n",
              "      <td>0</td>\n",
              "      <td>0</td>\n",
              "      <td>0</td>\n",
              "      <td>0</td>\n",
              "      <td>0</td>\n",
              "      <td>0</td>\n",
              "      <td>0</td>\n",
              "      <td>0</td>\n",
              "      <td>0</td>\n",
              "      <td>0</td>\n",
              "      <td>0</td>\n",
              "      <td>0</td>\n",
              "      <td>0</td>\n",
              "      <td>0</td>\n",
              "      <td>0</td>\n",
              "      <td>0</td>\n",
              "      <td>0</td>\n",
              "      <td>0</td>\n",
              "      <td>0</td>\n",
              "      <td>0</td>\n",
              "      <td>0</td>\n",
              "      <td>...</td>\n",
              "      <td>0</td>\n",
              "      <td>0</td>\n",
              "      <td>0</td>\n",
              "      <td>0</td>\n",
              "      <td>0</td>\n",
              "      <td>0</td>\n",
              "      <td>0</td>\n",
              "      <td>0</td>\n",
              "      <td>0</td>\n",
              "      <td>0</td>\n",
              "      <td>0</td>\n",
              "      <td>0</td>\n",
              "      <td>0</td>\n",
              "      <td>0</td>\n",
              "      <td>0</td>\n",
              "      <td>0</td>\n",
              "      <td>0</td>\n",
              "      <td>0</td>\n",
              "      <td>0</td>\n",
              "      <td>0</td>\n",
              "      <td>0</td>\n",
              "      <td>1</td>\n",
              "      <td>0</td>\n",
              "      <td>0</td>\n",
              "      <td>0</td>\n",
              "      <td>0</td>\n",
              "      <td>0</td>\n",
              "      <td>0</td>\n",
              "      <td>0</td>\n",
              "      <td>0</td>\n",
              "      <td>0</td>\n",
              "      <td>0</td>\n",
              "      <td>0</td>\n",
              "      <td>0</td>\n",
              "      <td>0</td>\n",
              "      <td>0</td>\n",
              "      <td>0</td>\n",
              "      <td>0</td>\n",
              "      <td>0</td>\n",
              "      <td>0</td>\n",
              "    </tr>\n",
              "  </tbody>\n",
              "</table>\n",
              "<p>1 rows × 3302 columns</p>\n",
              "</div>"
            ],
            "text/plain": [
              "   disorder  0  1  2  3  4  5  ...  3294  3295  3296  3297  3298  3299  3300\n",
              "0         4  0  0  0  0  0  0  ...     0     0     0     0     0     0     0\n",
              "\n",
              "[1 rows x 3302 columns]"
            ]
          },
          "metadata": {
            "tags": []
          },
          "execution_count": 102
        }
      ]
    },
    {
      "cell_type": "code",
      "metadata": {
        "id": "j5NNyDLDoA7Q"
      },
      "source": [
        "X = df.drop('disorder',axis=1)\n",
        "y = df['disorder']"
      ],
      "execution_count": 103,
      "outputs": []
    },
    {
      "cell_type": "code",
      "metadata": {
        "id": "oP0Ymj6zoGMD"
      },
      "source": [
        "X_train, X_val, y_train, y_val = train_test_split(X, y, test_size=0.2, random_state=101)\n",
        "X_eval, X_test, y_eval, y_test = train_test_split(X_val, y_val, test_size=0.5, random_state=101)"
      ],
      "execution_count": 104,
      "outputs": []
    },
    {
      "cell_type": "code",
      "metadata": {
        "id": "mRB2FuqYMCgg"
      },
      "source": [
        ""
      ],
      "execution_count": null,
      "outputs": []
    },
    {
      "cell_type": "code",
      "metadata": {
        "id": "Z-DXq4PIhNdC"
      },
      "source": [
        "#Turn the weights into a dictionary\n",
        "weights={}\n",
        "for index, weight in enumerate(class_weights):\n",
        "  weights[index]=weight"
      ],
      "execution_count": 105,
      "outputs": []
    },
    {
      "cell_type": "code",
      "metadata": {
        "id": "T0JJbVMchPVy"
      },
      "source": [
        "#Set the data as a tensor\n"
      ],
      "execution_count": null,
      "outputs": []
    },
    {
      "cell_type": "code",
      "metadata": {
        "id": "9Ha8uXJ6it12"
      },
      "source": [
        "#Create an embedding layer using a pretrained model\n",
        "embedding='https://tfhub.dev/google/tf2-preview/nnlm-en-dim128/1'\n",
        "hub_layer=hub.KerasLayer(embedding,output_shape=[128],input_shape=[],\n",
        "                        dtype=tf.string,trainable=True)"
      ],
      "execution_count": 106,
      "outputs": []
    },
    {
      "cell_type": "code",
      "metadata": {
        "id": "6FS-FRmgi0zl"
      },
      "source": [
        "#Build a keras sequential model\n",
        "input_dim = len(df.columns) - 1\n",
        "model = tf.keras.models.Sequential()\n",
        "model.add(tf.keras.layers.Dense(4, input_dim = input_dim , activation = 'relu'))\n",
        "model.add(tf.keras.layers.Dense(4, activation = 'relu'))\n",
        "model.add(tf.keras.layers.Dense(4, activation = 'relu'))\n",
        "model.add(tf.keras.layers.Dense(4, activation = 'relu'))\n",
        "model.add(tf.keras.layers.Dense(8, activation = 'softmax'))"
      ],
      "execution_count": 107,
      "outputs": []
    },
    {
      "cell_type": "code",
      "metadata": {
        "id": "OJv_76qQjAcI"
      },
      "source": [
        "# We compile using adam optimizer\n",
        "model.compile(optimizer='adam',\n",
        "              loss=tf.keras.losses.SparseCategoricalCrossentropy(),\n",
        "              metrics=['accuracy'])"
      ],
      "execution_count": 108,
      "outputs": []
    },
    {
      "cell_type": "code",
      "metadata": {
        "colab": {
          "base_uri": "https://localhost:8080/"
        },
        "id": "MlRyHe-VjIK7",
        "outputId": "82f84271-01d0-4f1d-f411-073ac8325abf"
      },
      "source": [
        "#Model training\n",
        "\n",
        "history=model.fit(X_train,\n",
        "                  y_train,\n",
        "                  validation_data = (X_val, y_val),\n",
        "                  epochs = 10,batch_size=16)"
      ],
      "execution_count": 109,
      "outputs": [
        {
          "output_type": "stream",
          "text": [
            "Epoch 1/10\n",
            "38/38 [==============================] - 1s 9ms/step - loss: 2.0611 - accuracy: 0.4305 - val_loss: 2.0384 - val_accuracy: 0.4803\n",
            "Epoch 2/10\n",
            "38/38 [==============================] - 0s 3ms/step - loss: 2.0204 - accuracy: 0.4636 - val_loss: 1.9985 - val_accuracy: 0.4803\n",
            "Epoch 3/10\n",
            "38/38 [==============================] - 0s 3ms/step - loss: 1.9762 - accuracy: 0.4636 - val_loss: 1.9488 - val_accuracy: 0.4803\n",
            "Epoch 4/10\n",
            "38/38 [==============================] - 0s 3ms/step - loss: 1.8875 - accuracy: 0.4636 - val_loss: 1.8484 - val_accuracy: 0.4803\n",
            "Epoch 5/10\n",
            "38/38 [==============================] - 0s 4ms/step - loss: 1.6974 - accuracy: 0.4685 - val_loss: 1.6778 - val_accuracy: 0.4803\n",
            "Epoch 6/10\n",
            "38/38 [==============================] - 0s 4ms/step - loss: 1.4351 - accuracy: 0.6805 - val_loss: 1.5008 - val_accuracy: 0.5921\n",
            "Epoch 7/10\n",
            "38/38 [==============================] - 0s 5ms/step - loss: 1.2419 - accuracy: 0.7334 - val_loss: 1.3760 - val_accuracy: 0.5987\n",
            "Epoch 8/10\n",
            "38/38 [==============================] - 0s 4ms/step - loss: 1.1274 - accuracy: 0.7715 - val_loss: 1.3058 - val_accuracy: 0.6184\n",
            "Epoch 9/10\n",
            "38/38 [==============================] - 0s 4ms/step - loss: 1.0590 - accuracy: 0.7881 - val_loss: 1.2631 - val_accuracy: 0.6382\n",
            "Epoch 10/10\n",
            "38/38 [==============================] - 0s 3ms/step - loss: 1.0075 - accuracy: 0.7881 - val_loss: 1.2211 - val_accuracy: 0.6579\n"
          ],
          "name": "stdout"
        }
      ]
    },
    {
      "cell_type": "code",
      "metadata": {
        "colab": {
          "base_uri": "https://localhost:8080/"
        },
        "id": "nYWOtk7VkuyP",
        "outputId": "6150809e-33b5-4039-e018-b52be6adf028"
      },
      "source": [
        "X_train.shape"
      ],
      "execution_count": 110,
      "outputs": [
        {
          "output_type": "execute_result",
          "data": {
            "text/plain": [
              "(604, 3301)"
            ]
          },
          "metadata": {
            "tags": []
          },
          "execution_count": 110
        }
      ]
    },
    {
      "cell_type": "code",
      "metadata": {
        "id": "ARUeM9vMxIS5"
      },
      "source": [
        "import matplotlib.pyplot as plt\n"
      ],
      "execution_count": 111,
      "outputs": []
    },
    {
      "cell_type": "code",
      "metadata": {
        "colab": {
          "base_uri": "https://localhost:8080/",
          "height": 655
        },
        "id": "4dE145LGvbbG",
        "outputId": "c82437b7-0ffb-4310-ec27-c74a0ea09b2c"
      },
      "source": [
        "#plot of model perfomance\n",
        "\n",
        "history_dict = history.history\n",
        "print(history_dict.keys())\n",
        "acc = history_dict['accuracy']\n",
        "val_acc = history_dict['val_accuracy']\n",
        "loss = history_dict['loss']\n",
        "val_loss = history_dict['val_loss']\n",
        "\n",
        "epochs = range(1, len(acc) + 1)\n",
        "fig = plt.figure(figsize=(10, 10))\n",
        "fig.tight_layout()\n",
        "\n",
        "plt.subplot(2, 1, 1)\n",
        "# \"bo\" is for \"blue dot\"\n",
        "plt.plot(epochs, loss, 'r', label='Training loss')\n",
        "# b is for \"solid blue line\"\n",
        "plt.plot(epochs, val_loss, 'b', label='Validation loss')\n",
        "plt.title('Training and validation loss')\n",
        "# plt.xlabel('Epochs')\n",
        "plt.ylabel('Loss')\n",
        "plt.legend()\n",
        "\n",
        "plt.subplot(2, 1, 2)\n",
        "plt.plot(epochs, acc, 'r', label='Training acc')\n",
        "plt.plot(epochs, val_acc, 'b', label='Validation acc')\n",
        "plt.title('Training and validation accuracy')\n",
        "plt.xlabel('Epochs')\n",
        "plt.ylabel('Accuracy')\n",
        "plt.legend(loc='lower right')"
      ],
      "execution_count": 112,
      "outputs": [
        {
          "output_type": "stream",
          "text": [
            "dict_keys(['loss', 'accuracy', 'val_loss', 'val_accuracy'])\n"
          ],
          "name": "stdout"
        },
        {
          "output_type": "execute_result",
          "data": {
            "text/plain": [
              "<matplotlib.legend.Legend at 0x7f0fbd888450>"
            ]
          },
          "metadata": {
            "tags": []
          },
          "execution_count": 112
        },
        {
          "output_type": "display_data",
          "data": {
            "image/png": "[encoded data removed]",
            "text/plain": [
              "<Figure size 720x720 with 2 Axes>"
            ]
          },
          "metadata": {
            "tags": [],
            "needs_background": "light"
          }
        }
      ]
    },
    {
      "cell_type": "code",
      "metadata": {
        "id": "jkK6hrtz0beT"
      },
      "source": [
        "#Build a keras sequential model\n",
        "input_dim = len(df.columns) - 1\n",
        "model = tf.keras.models.Sequential()\n",
        "model.add(tf.keras.layers.Dense(8, input_dim = input_dim , activation = 'relu'))\n",
        "model.add(tf.keras.layers.Dense(8, activation = 'relu'))\n",
        "model.add(tf.keras.layers.Dense(8, activation = 'relu'))\n",
        "model.add(tf.keras.layers.Dense(8, activation = 'relu'))\n",
        "model.add(tf.keras.layers.Dense(8, activation = 'softmax'))"
      ],
      "execution_count": 113,
      "outputs": []
    },
    {
      "cell_type": "code",
      "metadata": {
        "id": "gr0CnI6a7hhQ"
      },
      "source": [
        "# We compile using adam optimizer\n",
        "model.compile(optimizer='adam',\n",
        "              loss=tf.keras.losses.SparseCategoricalCrossentropy(),\n",
        "              metrics=['accuracy'])"
      ],
      "execution_count": 114,
      "outputs": []
    },
    {
      "cell_type": "code",
      "metadata": {
        "colab": {
          "base_uri": "https://localhost:8080/"
        },
        "id": "ukGkMP4d7oYp",
        "outputId": "e57db978-3134-4941-d49e-b944c0e770a6"
      },
      "source": [
        "#Model training\n",
        "\n",
        "history=model.fit(X_train,y_train,\n",
        "                  validation_data = (X_val, y_val),\n",
        "                  epochs = 10,batch_size=5)"
      ],
      "execution_count": 115,
      "outputs": [
        {
          "output_type": "stream",
          "text": [
            "Epoch 1/10\n",
            "121/121 [==============================] - 1s 4ms/step - loss: 1.9289 - accuracy: 0.4338 - val_loss: 1.6241 - val_accuracy: 0.5066\n",
            "Epoch 2/10\n",
            "121/121 [==============================] - 0s 2ms/step - loss: 1.3229 - accuracy: 0.4404 - val_loss: 1.1122 - val_accuracy: 0.4803\n",
            "Epoch 3/10\n",
            "121/121 [==============================] - 0s 2ms/step - loss: 1.0242 - accuracy: 0.4983 - val_loss: 0.8502 - val_accuracy: 0.7237\n",
            "Epoch 4/10\n",
            "121/121 [==============================] - 0s 2ms/step - loss: 0.6615 - accuracy: 0.7533 - val_loss: 0.6956 - val_accuracy: 0.7237\n",
            "Epoch 5/10\n",
            "121/121 [==============================] - 0s 2ms/step - loss: 0.4797 - accuracy: 0.8295 - val_loss: 0.6669 - val_accuracy: 0.7697\n",
            "Epoch 6/10\n",
            "121/121 [==============================] - 0s 2ms/step - loss: 0.4105 - accuracy: 0.8477 - val_loss: 0.6558 - val_accuracy: 0.7829\n",
            "Epoch 7/10\n",
            "121/121 [==============================] - 0s 2ms/step - loss: 0.3675 - accuracy: 0.8576 - val_loss: 0.6486 - val_accuracy: 0.7829\n",
            "Epoch 8/10\n",
            "121/121 [==============================] - 0s 2ms/step - loss: 0.3390 - accuracy: 0.8543 - val_loss: 0.6925 - val_accuracy: 0.7763\n",
            "Epoch 9/10\n",
            "121/121 [==============================] - 0s 2ms/step - loss: 0.3170 - accuracy: 0.8576 - val_loss: 0.6926 - val_accuracy: 0.7829\n",
            "Epoch 10/10\n",
            "121/121 [==============================] - 0s 2ms/step - loss: 0.2997 - accuracy: 0.8725 - val_loss: 0.7114 - val_accuracy: 0.7829\n"
          ],
          "name": "stdout"
        }
      ]
    },
    {
      "cell_type": "code",
      "metadata": {
        "id": "lyTqXmuu8BPu"
      },
      "source": [
        "y_pred =model.predict(X_test)\n"
      ],
      "execution_count": 116,
      "outputs": []
    },
    {
      "cell_type": "code",
      "metadata": {
        "colab": {
          "base_uri": "https://localhost:8080/"
        },
        "id": "7lCurP1OOIkj",
        "outputId": "39230971-a139-424d-9289-25cedacb257b"
      },
      "source": [
        "y_pred"
      ],
      "execution_count": 121,
      "outputs": [
        {
          "output_type": "execute_result",
          "data": {
            "text/plain": [
              "array([[1.15043437e-02, 3.52382835e-06, 1.13346934e-04, ...,\n",
              "        4.12380223e-06, 3.64097809e-06, 1.14426799e-02],\n",
              "       [1.29097491e-03, 7.10622459e-08, 1.13510814e-05, ...,\n",
              "        8.26174968e-08, 8.29595166e-08, 4.21773829e-03],\n",
              "       [8.17750633e-01, 1.91811068e-05, 5.53202699e-05, ...,\n",
              "        7.24771598e-05, 2.84157741e-05, 2.20007496e-03],\n",
              "       ...,\n",
              "       [1.98049331e-03, 4.00797126e-06, 2.67027703e-04, ...,\n",
              "        2.93190328e-06, 4.15185832e-06, 2.39165165e-02],\n",
              "       [9.42708850e-01, 1.95179873e-05, 2.35499028e-05, ...,\n",
              "        8.35249448e-05, 2.53296039e-05, 7.05097686e-04],\n",
              "       [9.77549553e-01, 2.50082303e-06, 2.63538163e-06, ...,\n",
              "        1.59211031e-05, 3.53466521e-06, 1.32646193e-04]], dtype=float32)"
            ]
          },
          "metadata": {
            "tags": []
          },
          "execution_count": 121
        }
      ]
    },
    {
      "cell_type": "code",
      "metadata": {
        "id": "Nog-F0pb8xhh"
      },
      "source": [
        "from sklearn.metrics import classification_report"
      ],
      "execution_count": 117,
      "outputs": []
    },
    {
      "cell_type": "code",
      "metadata": {
        "colab": {
          "base_uri": "https://localhost:8080/",
          "height": 310
        },
        "id": "1UdOkUbJKK3S",
        "outputId": "db897e06-3506-4cd5-f780-31a71340746b"
      },
      "source": [
        "print(classification_report(y_eval, y_pred))\n"
      ],
      "execution_count": 119,
      "outputs": [
        {
          "output_type": "error",
          "ename": "ValueError",
          "evalue": "ignored",
          "traceback": [
            "\u001b[0;31m---------------------------------------------------------------------------\u001b[0m",
            "\u001b[0;31mValueError\u001b[0m                                Traceback (most recent call last)",
            "\u001b[0;32m<ipython-input-119-aded83d84638>\u001b[0m in \u001b[0;36m<module>\u001b[0;34m()\u001b[0m\n\u001b[0;32m----> 1\u001b[0;31m \u001b[0mprint\u001b[0m\u001b[0;34m(\u001b[0m\u001b[0mclassification_report\u001b[0m\u001b[0;34m(\u001b[0m\u001b[0my_eval\u001b[0m\u001b[0;34m,\u001b[0m \u001b[0my_pred\u001b[0m\u001b[0;34m)\u001b[0m\u001b[0;34m)\u001b[0m\u001b[0;34m\u001b[0m\u001b[0;34m\u001b[0m\u001b[0m\n\u001b[0m",
            "\u001b[0;32m/usr/local/lib/python3.7/dist-packages/sklearn/metrics/_classification.py\u001b[0m in \u001b[0;36mclassification_report\u001b[0;34m(y_true, y_pred, labels, target_names, sample_weight, digits, output_dict, zero_division)\u001b[0m\n\u001b[1;32m   1969\u001b[0m     \"\"\"\n\u001b[1;32m   1970\u001b[0m \u001b[0;34m\u001b[0m\u001b[0m\n\u001b[0;32m-> 1971\u001b[0;31m     \u001b[0my_type\u001b[0m\u001b[0;34m,\u001b[0m \u001b[0my_true\u001b[0m\u001b[0;34m,\u001b[0m \u001b[0my_pred\u001b[0m \u001b[0;34m=\u001b[0m \u001b[0m_check_targets\u001b[0m\u001b[0;34m(\u001b[0m\u001b[0my_true\u001b[0m\u001b[0;34m,\u001b[0m \u001b[0my_pred\u001b[0m\u001b[0;34m)\u001b[0m\u001b[0;34m\u001b[0m\u001b[0;34m\u001b[0m\u001b[0m\n\u001b[0m\u001b[1;32m   1972\u001b[0m \u001b[0;34m\u001b[0m\u001b[0m\n\u001b[1;32m   1973\u001b[0m     \u001b[0mlabels_given\u001b[0m \u001b[0;34m=\u001b[0m \u001b[0;32mTrue\u001b[0m\u001b[0;34m\u001b[0m\u001b[0;34m\u001b[0m\u001b[0m\n",
            "\u001b[0;32m/usr/local/lib/python3.7/dist-packages/sklearn/metrics/_classification.py\u001b[0m in \u001b[0;36m_check_targets\u001b[0;34m(y_true, y_pred)\u001b[0m\n\u001b[1;32m     78\u001b[0m     \u001b[0my_pred\u001b[0m \u001b[0;34m:\u001b[0m \u001b[0marray\u001b[0m \u001b[0;32mor\u001b[0m \u001b[0mindicator\u001b[0m \u001b[0mmatrix\u001b[0m\u001b[0;34m\u001b[0m\u001b[0;34m\u001b[0m\u001b[0m\n\u001b[1;32m     79\u001b[0m     \"\"\"\n\u001b[0;32m---> 80\u001b[0;31m     \u001b[0mcheck_consistent_length\u001b[0m\u001b[0;34m(\u001b[0m\u001b[0my_true\u001b[0m\u001b[0;34m,\u001b[0m \u001b[0my_pred\u001b[0m\u001b[0;34m)\u001b[0m\u001b[0;34m\u001b[0m\u001b[0;34m\u001b[0m\u001b[0m\n\u001b[0m\u001b[1;32m     81\u001b[0m     \u001b[0mtype_true\u001b[0m \u001b[0;34m=\u001b[0m \u001b[0mtype_of_target\u001b[0m\u001b[0;34m(\u001b[0m\u001b[0my_true\u001b[0m\u001b[0;34m)\u001b[0m\u001b[0;34m\u001b[0m\u001b[0;34m\u001b[0m\u001b[0m\n\u001b[1;32m     82\u001b[0m     \u001b[0mtype_pred\u001b[0m \u001b[0;34m=\u001b[0m \u001b[0mtype_of_target\u001b[0m\u001b[0;34m(\u001b[0m\u001b[0my_pred\u001b[0m\u001b[0;34m)\u001b[0m\u001b[0;34m\u001b[0m\u001b[0;34m\u001b[0m\u001b[0m\n",
            "\u001b[0;32m/usr/local/lib/python3.7/dist-packages/sklearn/utils/validation.py\u001b[0m in \u001b[0;36mcheck_consistent_length\u001b[0;34m(*arrays)\u001b[0m\n\u001b[1;32m    210\u001b[0m     \u001b[0;32mif\u001b[0m \u001b[0mlen\u001b[0m\u001b[0;34m(\u001b[0m\u001b[0muniques\u001b[0m\u001b[0;34m)\u001b[0m \u001b[0;34m>\u001b[0m \u001b[0;36m1\u001b[0m\u001b[0;34m:\u001b[0m\u001b[0;34m\u001b[0m\u001b[0;34m\u001b[0m\u001b[0m\n\u001b[1;32m    211\u001b[0m         raise ValueError(\"Found input variables with inconsistent numbers of\"\n\u001b[0;32m--> 212\u001b[0;31m                          \" samples: %r\" % [int(l) for l in lengths])\n\u001b[0m\u001b[1;32m    213\u001b[0m \u001b[0;34m\u001b[0m\u001b[0m\n\u001b[1;32m    214\u001b[0m \u001b[0;34m\u001b[0m\u001b[0m\n",
            "\u001b[0;31mValueError\u001b[0m: Found input variables with inconsistent numbers of samples: [76, 152]"
          ]
        }
      ]
    },
    {
      "cell_type": "code",
      "metadata": {
        "id": "XmRB4XlV9a_2",
        "colab": {
          "base_uri": "https://localhost:8080/"
        },
        "outputId": "ff4d1b8d-571f-4165-a0eb-4a6cc1c8495c"
      },
      "source": [
        "# y_pred.dtype, y_eval.shape, y_test.shape, y_val.shape\n",
        "y_pred"
      ],
      "execution_count": 88,
      "outputs": [
        {
          "output_type": "execute_result",
          "data": {
            "text/plain": [
              "array([[3.5909414e-02, 5.8310448e-08, 7.7193975e-04, ..., 4.4212666e-05,\n",
              "        4.5883628e-03, 9.1839564e-04],\n",
              "       [8.3052646e-04, 1.5152814e-12, 9.7818975e-06, ..., 6.1095207e-08,\n",
              "        5.6471163e-04, 1.2410103e-06],\n",
              "       [7.1760046e-01, 1.2189383e-07, 5.3960513e-05, ..., 8.7646469e-05,\n",
              "        4.3374537e-05, 5.3330460e-03],\n",
              "       ...,\n",
              "       [3.4213534e-03, 3.1906167e-09, 5.8699405e-04, ..., 5.6556114e-06,\n",
              "        1.0270215e-02, 7.7448967e-05],\n",
              "       [9.8758799e-01, 2.4780823e-07, 2.2588461e-06, ..., 5.0013736e-05,\n",
              "        2.4937884e-07, 4.7305296e-03],\n",
              "       [9.8187178e-01, 2.9193753e-08, 1.3587043e-06, ..., 1.8725985e-05,\n",
              "        2.2493008e-07, 2.9875140e-03]], dtype=float32)"
            ]
          },
          "metadata": {
            "tags": []
          },
          "execution_count": 88
        }
      ]
    },
    {
      "cell_type": "code",
      "metadata": {
        "colab": {
          "base_uri": "https://localhost:8080/"
        },
        "id": "Pcg3OdIK9uLS",
        "outputId": "fa4dbc48-8f18-4cbf-d59d-7700e3d681dd"
      },
      "source": [
        "# y_test.dtype"
      ],
      "execution_count": 43,
      "outputs": [
        {
          "output_type": "execute_result",
          "data": {
            "text/plain": [
              "dtype('int64')"
            ]
          },
          "metadata": {
            "tags": []
          },
          "execution_count": 43
        }
      ]
    },
    {
      "cell_type": "code",
      "metadata": {
        "id": "EOwhVTRf9zOQ"
      },
      "source": [
        "# y_pred = y_pred.astype('int64')"
      ],
      "execution_count": null,
      "outputs": []
    },
    {
      "cell_type": "code",
      "metadata": {
        "colab": {
          "base_uri": "https://localhost:8080/"
        },
        "id": "EaKYqnnI_NF2",
        "outputId": "5f384525-bc2e-4c7a-dad5-f02aa8c55379"
      },
      "source": [
        "# y_pred.dtype"
      ],
      "execution_count": null,
      "outputs": [
        {
          "output_type": "execute_result",
          "data": {
            "text/plain": [
              "dtype('int64')"
            ]
          },
          "metadata": {
            "tags": []
          },
          "execution_count": 121
        }
      ]
    },
    {
      "cell_type": "code",
      "metadata": {
        "id": "3NSN1UvK_rO2"
      },
      "source": [
        "import pandas as pd\n"
      ],
      "execution_count": null,
      "outputs": []
    },
    {
      "cell_type": "code",
      "metadata": {
        "colab": {
          "base_uri": "https://localhost:8080/"
        },
        "id": "eQiXUb22_zOj",
        "outputId": "06770ace-fc8f-4778-d2a6-b50d4a99115d"
      },
      "source": [
        "# y_pred.dtype"
      ],
      "execution_count": null,
      "outputs": [
        {
          "output_type": "execute_result",
          "data": {
            "text/plain": [
              "dtype('int64')"
            ]
          },
          "metadata": {
            "tags": []
          },
          "execution_count": 129
        }
      ]
    },
    {
      "cell_type": "code",
      "metadata": {
        "id": "uoHn-s2t_xbE"
      },
      "source": [
        ""
      ],
      "execution_count": null,
      "outputs": []
    },
    {
      "cell_type": "code",
      "metadata": {
        "id": "0Evhu44g95MH"
      },
      "source": [
        "# y_train.dtype"
      ],
      "execution_count": 45,
      "outputs": []
    },
    {
      "cell_type": "code",
      "metadata": {
        "colab": {
          "base_uri": "https://localhost:8080/",
          "height": 310
        },
        "id": "yIrl72ZE8_lN",
        "outputId": "17ecae70-c015-4d05-cbbb-d3d8040e30c9"
      },
      "source": [
        ""
      ],
      "execution_count": 48,
      "outputs": [
        {
          "output_type": "error",
          "ename": "ValueError",
          "evalue": "ignored",
          "traceback": [
            "\u001b[0;31m---------------------------------------------------------------------------\u001b[0m",
            "\u001b[0;31mValueError\u001b[0m                                Traceback (most recent call last)",
            "\u001b[0;32m<ipython-input-48-be016a10ebe4>\u001b[0m in \u001b[0;36m<module>\u001b[0;34m()\u001b[0m\n\u001b[0;32m----> 1\u001b[0;31m \u001b[0mprint\u001b[0m\u001b[0;34m(\u001b[0m\u001b[0mclassification_report\u001b[0m\u001b[0;34m(\u001b[0m\u001b[0my_val\u001b[0m\u001b[0;34m,\u001b[0m\u001b[0my_pred\u001b[0m\u001b[0;34m)\u001b[0m\u001b[0;34m)\u001b[0m\u001b[0;34m\u001b[0m\u001b[0;34m\u001b[0m\u001b[0m\n\u001b[0m",
            "\u001b[0;32m/usr/local/lib/python3.7/dist-packages/sklearn/metrics/_classification.py\u001b[0m in \u001b[0;36mclassification_report\u001b[0;34m(y_true, y_pred, labels, target_names, sample_weight, digits, output_dict, zero_division)\u001b[0m\n\u001b[1;32m   1969\u001b[0m     \"\"\"\n\u001b[1;32m   1970\u001b[0m \u001b[0;34m\u001b[0m\u001b[0m\n\u001b[0;32m-> 1971\u001b[0;31m     \u001b[0my_type\u001b[0m\u001b[0;34m,\u001b[0m \u001b[0my_true\u001b[0m\u001b[0;34m,\u001b[0m \u001b[0my_pred\u001b[0m \u001b[0;34m=\u001b[0m \u001b[0m_check_targets\u001b[0m\u001b[0;34m(\u001b[0m\u001b[0my_true\u001b[0m\u001b[0;34m,\u001b[0m \u001b[0my_pred\u001b[0m\u001b[0;34m)\u001b[0m\u001b[0;34m\u001b[0m\u001b[0;34m\u001b[0m\u001b[0m\n\u001b[0m\u001b[1;32m   1972\u001b[0m \u001b[0;34m\u001b[0m\u001b[0m\n\u001b[1;32m   1973\u001b[0m     \u001b[0mlabels_given\u001b[0m \u001b[0;34m=\u001b[0m \u001b[0;32mTrue\u001b[0m\u001b[0;34m\u001b[0m\u001b[0;34m\u001b[0m\u001b[0m\n",
            "\u001b[0;32m/usr/local/lib/python3.7/dist-packages/sklearn/metrics/_classification.py\u001b[0m in \u001b[0;36m_check_targets\u001b[0;34m(y_true, y_pred)\u001b[0m\n\u001b[1;32m     78\u001b[0m     \u001b[0my_pred\u001b[0m \u001b[0;34m:\u001b[0m \u001b[0marray\u001b[0m \u001b[0;32mor\u001b[0m \u001b[0mindicator\u001b[0m \u001b[0mmatrix\u001b[0m\u001b[0;34m\u001b[0m\u001b[0;34m\u001b[0m\u001b[0m\n\u001b[1;32m     79\u001b[0m     \"\"\"\n\u001b[0;32m---> 80\u001b[0;31m     \u001b[0mcheck_consistent_length\u001b[0m\u001b[0;34m(\u001b[0m\u001b[0my_true\u001b[0m\u001b[0;34m,\u001b[0m \u001b[0my_pred\u001b[0m\u001b[0;34m)\u001b[0m\u001b[0;34m\u001b[0m\u001b[0;34m\u001b[0m\u001b[0m\n\u001b[0m\u001b[1;32m     81\u001b[0m     \u001b[0mtype_true\u001b[0m \u001b[0;34m=\u001b[0m \u001b[0mtype_of_target\u001b[0m\u001b[0;34m(\u001b[0m\u001b[0my_true\u001b[0m\u001b[0;34m)\u001b[0m\u001b[0;34m\u001b[0m\u001b[0;34m\u001b[0m\u001b[0m\n\u001b[1;32m     82\u001b[0m     \u001b[0mtype_pred\u001b[0m \u001b[0;34m=\u001b[0m \u001b[0mtype_of_target\u001b[0m\u001b[0;34m(\u001b[0m\u001b[0my_pred\u001b[0m\u001b[0;34m)\u001b[0m\u001b[0;34m\u001b[0m\u001b[0;34m\u001b[0m\u001b[0m\n",
            "\u001b[0;32m/usr/local/lib/python3.7/dist-packages/sklearn/utils/validation.py\u001b[0m in \u001b[0;36mcheck_consistent_length\u001b[0;34m(*arrays)\u001b[0m\n\u001b[1;32m    210\u001b[0m     \u001b[0;32mif\u001b[0m \u001b[0mlen\u001b[0m\u001b[0;34m(\u001b[0m\u001b[0muniques\u001b[0m\u001b[0;34m)\u001b[0m \u001b[0;34m>\u001b[0m \u001b[0;36m1\u001b[0m\u001b[0;34m:\u001b[0m\u001b[0;34m\u001b[0m\u001b[0;34m\u001b[0m\u001b[0m\n\u001b[1;32m    211\u001b[0m         raise ValueError(\"Found input variables with inconsistent numbers of\"\n\u001b[0;32m--> 212\u001b[0;31m                          \" samples: %r\" % [int(l) for l in lengths])\n\u001b[0m\u001b[1;32m    213\u001b[0m \u001b[0;34m\u001b[0m\u001b[0m\n\u001b[1;32m    214\u001b[0m \u001b[0;34m\u001b[0m\u001b[0m\n",
            "\u001b[0;31mValueError\u001b[0m: Found input variables with inconsistent numbers of samples: [152, 76]"
          ]
        }
      ]
    },
    {
      "cell_type": "code",
      "metadata": {
        "id": "OoBCNLWcJ89p"
      },
      "source": [
        ""
      ],
      "execution_count": null,
      "outputs": []
    }
  ]
}